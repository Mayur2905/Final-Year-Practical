{
  "nbformat": 4,
  "nbformat_minor": 0,
  "metadata": {
    "colab": {
      "provenance": []
    },
    "kernelspec": {
      "name": "python3",
      "display_name": "Python 3"
    },
    "language_info": {
      "name": "python"
    }
  },
  "cells": [
    {
      "cell_type": "code",
      "execution_count": 12,
      "metadata": {
        "id": "IDE-Q643UOxf"
      },
      "outputs": [],
      "source": [
        "import pandas as pd\n",
        "\n",
        "# Load the dataset\n",
        "data = pd.read_csv(\"https://archive.ics.uci.edu/ml/machine-learning-databases/letter-recognition/letter-recognition.data\", header=None)\n"
      ]
    },
    {
      "cell_type": "code",
      "source": [
        "from sklearn.preprocessing import LabelEncoder\n",
        "from sklearn.model_selection import train_test_split\n",
        "\n",
        "# Preprocess the dataset\n",
        "X = data.iloc[:, 1:]\n",
        "y = data.iloc[:, 0]\n",
        "\n",
        "encoder = LabelEncoder()\n",
        "y = encoder.fit_transform(y)\n",
        "\n",
        "X_train, X_test, y_train, y_test = train_test_split(X, y, test_size=0.2, random_state=42)\n"
      ],
      "metadata": {
        "id": "zdYurRrcURze"
      },
      "execution_count": 13,
      "outputs": []
    },
    {
      "cell_type": "code",
      "source": [
        "from keras.models import Sequential\n",
        "from keras.layers import Dense, Dropout\n",
        "\n",
        "# Build the DNN model\n",
        "model = Sequential()\n",
        "model.add(Dense(units=64, activation='relu', input_dim=X_train.shape[1]))\n",
        "model.add(Dropout(0.2))\n",
        "model.add(Dense(units=32, activation='relu'))\n",
        "model.add(Dropout(0.2))\n",
        "model.add(Dense(units=26, activation='softmax'))\n"
      ],
      "metadata": {
        "id": "B5rira-IUS7V"
      },
      "execution_count": 14,
      "outputs": []
    },
    {
      "cell_type": "code",
      "source": [
        "# Train the model\n",
        "model.compile(optimizer='adam', loss='sparse_categorical_crossentropy', metrics=['accuracy'])\n",
        "model.fit(X_train, y_train, epochs=10, batch_size=32)\n"
      ],
      "metadata": {
        "colab": {
          "base_uri": "https://localhost:8080/"
        },
        "id": "_tD5iGuGUz2w",
        "outputId": "99ca5643-4c82-4cd2-d304-fb9adf40917c"
      },
      "execution_count": 15,
      "outputs": [
        {
          "output_type": "stream",
          "name": "stdout",
          "text": [
            "Epoch 1/10\n",
            "500/500 [==============================] - 4s 4ms/step - loss: 2.9511 - accuracy: 0.1583\n",
            "Epoch 2/10\n",
            "500/500 [==============================] - 1s 3ms/step - loss: 1.8997 - accuracy: 0.4117\n",
            "Epoch 3/10\n",
            "500/500 [==============================] - 1s 2ms/step - loss: 1.5236 - accuracy: 0.5193\n",
            "Epoch 4/10\n",
            "500/500 [==============================] - 2s 3ms/step - loss: 1.3380 - accuracy: 0.5822\n",
            "Epoch 5/10\n",
            "500/500 [==============================] - 1s 3ms/step - loss: 1.2363 - accuracy: 0.6064\n",
            "Epoch 6/10\n",
            "500/500 [==============================] - 2s 3ms/step - loss: 1.1534 - accuracy: 0.6319\n",
            "Epoch 7/10\n",
            "500/500 [==============================] - 2s 3ms/step - loss: 1.1068 - accuracy: 0.6420\n",
            "Epoch 8/10\n",
            "500/500 [==============================] - 2s 3ms/step - loss: 1.0483 - accuracy: 0.6654\n",
            "Epoch 9/10\n",
            "500/500 [==============================] - 1s 2ms/step - loss: 1.0040 - accuracy: 0.6780\n",
            "Epoch 10/10\n",
            "500/500 [==============================] - 1s 2ms/step - loss: 0.9804 - accuracy: 0.6882\n"
          ]
        },
        {
          "output_type": "execute_result",
          "data": {
            "text/plain": [
              "<keras.callbacks.History at 0x7f1b1855a170>"
            ]
          },
          "metadata": {},
          "execution_count": 15
        }
      ]
    },
    {
      "cell_type": "code",
      "source": [
        "# Test the model\n",
        "loss, accuracy = model.evaluate(X_test, y_test)\n",
        "print(\"Test Loss:\", loss)\n",
        "print(\"Test Accuracy:\", accuracy)\n"
      ],
      "metadata": {
        "colab": {
          "base_uri": "https://localhost:8080/"
        },
        "id": "7YwIZ0jIVZvb",
        "outputId": "beb419bf-fca3-4030-fdf9-4ef4f0a63180"
      },
      "execution_count": 16,
      "outputs": [
        {
          "output_type": "stream",
          "name": "stdout",
          "text": [
            "125/125 [==============================] - 0s 1ms/step - loss: 0.6712 - accuracy: 0.7993\n",
            "Test Loss: 0.671151340007782\n",
            "Test Accuracy: 0.7992500066757202\n"
          ]
        }
      ]
    },
    {
      "cell_type": "code",
      "source": [
        "# Make predictions\n",
        "new_image = pd.DataFrame([[2, 8, 3, 7, 2, 1, 8, 9, 5, 7, 8, 8, 7, 6, 10, 8]])\n",
        "prediction = model.predict(new_image)\n",
        "prediction_letter = encoder.inverse_transform([prediction.argmax()])\n",
        "print(\"Prediction:\", prediction_letter[0])\n"
      ],
      "metadata": {
        "colab": {
          "base_uri": "https://localhost:8080/"
        },
        "id": "lIQwndV2VcHd",
        "outputId": "2418455e-baf1-4316-ad04-596fa6b5b497"
      },
      "execution_count": 17,
      "outputs": [
        {
          "output_type": "stream",
          "name": "stdout",
          "text": [
            "1/1 [==============================] - 0s 90ms/step\n",
            "Prediction: E\n"
          ]
        }
      ]
    }
  ]
}